{
 "cells": [
  {
   "cell_type": "markdown",
   "id": "57f1a008-305c-45a5-a2fa-a92fa23eb8cc",
   "metadata": {},
   "source": [
    "# Analysis of pilot data "
   ]
  },
  {
   "cell_type": "markdown",
   "id": "42d56d09-9d2f-4a5c-90c2-cba7c1ca8158",
   "metadata": {},
   "source": [
    "## 1. Load the dataset\n",
    "### Notation\n",
    "- If Group == 1, questions with digit 7 have a win/loss payoff of +- 1 cent, and questions with digit 0 have a win/loss payoff of +- 10 cents.\n",
    "- If Group == 2, questions with digit 0 have a win/loss payoff of +- 1 cent, and questions with digit 7 have a win/loss payoff of +- 10 cents.\n",
    "- Q_what_comes_to_mind: which digit participants indicated to the question \"name the first digit that comes to your mind\"\n",
    "\n",
    "##### To find all titles of the questions, see pilot_full_data.csv"
   ]
  },
  {
   "cell_type": "code",
   "execution_count": 21,
   "id": "c02a0812-390e-45a2-8392-ffe3e7b52d2e",
   "metadata": {},
   "outputs": [
    {
     "name": "stdout",
     "output_type": "stream",
     "text": [
      "       StartDate        EndDate  Duration  Finished   RecordedDate  Q1  \\\n",
      "0  6/26/24 11:03  6/26/24 11:17       818         1  6/26/24 11:17   1   \n",
      "1  6/26/24 11:08  6/26/24 11:21       757         1  6/26/24 11:21   1   \n",
      "2  6/26/24 11:08  6/26/24 11:22       842         1  6/26/24 11:22   1   \n",
      "3  6/26/24 11:04  6/26/24 11:23      1124         1  6/26/24 11:23   1   \n",
      "4  6/26/24 11:10  6/26/24 11:25       890         1  6/26/24 11:25   1   \n",
      "\n",
      "   Timer_First Click  Timer_Last Click  Timer_Page Submit  Timer_Click Count  \\\n",
      "0              0.000             0.000             22.301                  0   \n",
      "1              0.000             0.000             41.843                  0   \n",
      "2              0.000             0.000             22.339                  0   \n",
      "3             39.521            39.521            120.521                  1   \n",
      "4              5.171            19.658             26.336                  4   \n",
      "\n",
      "   ...  Q0_9_1  Q110_First Click  Q110_Last Click  Q110_Page Submit  \\\n",
      "0  ...       1               0.0              0.0             5.042   \n",
      "1  ...       1               0.0              0.0             5.383   \n",
      "2  ...       3               0.0              0.0             5.195   \n",
      "3  ...       1               0.0              0.0             3.030   \n",
      "4  ...       1               0.0              0.0             5.282   \n",
      "\n",
      "   Q110_Click Count  Q0_10_1  Q_what_comes_to_mind  SC0  totalPayoff  Group  \n",
      "0                 0        1                     7   20          706      2  \n",
      "1                 0        1                     7   20          710      1  \n",
      "2                 0        1                     7   24          626      2  \n",
      "3                 0        1                     0   20          690      1  \n",
      "4                 0        1                     6   20          670      1  \n",
      "\n",
      "[5 rows x 118 columns]\n"
     ]
    }
   ],
   "source": [
    "import pandas as pd\n",
    "\n",
    "data = pd.read_csv('pilot_data/pilot_jun26/pilot_edited_data.csv')\n",
    "print(data.head())"
   ]
  },
  {
   "cell_type": "code",
   "execution_count": null,
   "id": "cf47c039-a617-49b7-85b4-58c57fc17700",
   "metadata": {},
   "outputs": [],
   "source": []
  },
  {
   "cell_type": "markdown",
   "id": "596af759-7887-455f-a58f-d277eb55d4f9",
   "metadata": {},
   "source": [
    "## Digit that comes to mind, per group"
   ]
  },
  {
   "cell_type": "code",
   "execution_count": 22,
   "id": "beb44809-9432-43ab-9bcc-22e58d520277",
   "metadata": {},
   "outputs": [],
   "source": [
    "# Classify the responses\n",
    "def classify_digit(value):\n",
    "    if value == 0:\n",
    "        return '0'\n",
    "    elif value == 7:\n",
    "        return '7'\n",
    "    else:\n",
    "        return 'other'\n",
    "\n",
    "data['Classified_Response'] = data['Q_what_comes_to_mind'].apply(classify_digit)\n",
    "\n",
    "# Group by 'Group' and 'Classified_Response' and count frequencies\n",
    "grouped_counts = data.groupby(['Group', 'Classified_Response']).size().unstack(fill_value=0)\n",
    "\n",
    "# Get unique groups\n",
    "groups = data['Group'].unique()"
   ]
  },
  {
   "cell_type": "code",
   "execution_count": 23,
   "id": "37e93766-77d1-437c-8c9a-e93766835d86",
   "metadata": {},
   "outputs": [
    {
     "data": {
      "image/png": "[encoded data removed]",
      "text/plain": [
       "<Figure size 1000x500 with 2 Axes>"
      ]
     },
     "metadata": {},
     "output_type": "display_data"
    }
   ],
   "source": [
    "# Create a figure and axes for the plots\n",
    "fig, axes = plt.subplots(nrows=1, ncols=len(groups), figsize=(10, 5), sharey=True)\n",
    "\n",
    "# Titles for each group\n",
    "titles = {\n",
    "    1: \"Group 1 (0 = high variance, 7 = low variance)\",\n",
    "    2: \"Group 2 (0 = low variance, 7 = high variance)\"\n",
    "}\n",
    "\n",
    "# Plot each group's data\n",
    "for i, group in enumerate(groups):\n",
    "    grouped_counts.loc[group].plot(kind='bar', ax=axes[i], color=['red', 'green', 'blue'])\n",
    "    axes[i].set_title(titles[group])\n",
    "    axes[i].set_xlabel('Response')\n",
    "    axes[i].set_ylabel('Frequency')\n",
    "    axes[i].set_xticklabels(['0', '7', 'Other'], rotation=0)\n",
    "\n",
    "plt.tight_layout()\n",
    "plt.show()"
   ]
  },
  {
   "cell_type": "code",
   "execution_count": null,
   "id": "dd4fdef1-71f3-4e88-9c08-342f2e81b20f",
   "metadata": {},
   "outputs": [],
   "source": []
  },
  {
   "cell_type": "markdown",
   "id": "8c127262-c2d4-4f04-bc04-4bb416cdf5fb",
   "metadata": {},
   "source": [
    "## Number of players with perfect score (710 cents)"
   ]
  },
  {
   "cell_type": "code",
   "execution_count": 19,
   "id": "64efb394-ef58-47a9-8c87-2de11e41fd02",
   "metadata": {},
   "outputs": [
    {
     "name": "stdout",
     "output_type": "stream",
     "text": [
      "Number of players with a totalPayoff of 710: 6\n",
      "Fraction of players with a totalPayoff of 710: 0.29\n"
     ]
    }
   ],
   "source": [
    "# Count the number of players with a totalPayoff of 710\n",
    "count_payoff_710 = (data['totalPayoff'] == 710).sum()\n",
    "\n",
    "# Calculate the total number of players\n",
    "total_players = len(data)\n",
    "\n",
    "# Calculate the fraction of players with a totalPayoff of 710\n",
    "fraction_payoff_710 = count_payoff_710 / total_players\n",
    "\n",
    "# Print the results\n",
    "print(f\"Number of players with a totalPayoff of 710: {count_payoff_710}\")\n",
    "print(f\"Fraction of players with a totalPayoff of 710: {fraction_payoff_710:.2f}\")\n"
   ]
  },
  {
   "cell_type": "code",
   "execution_count": null,
   "id": "1d77cb84-040c-4e57-8abf-3a735fb86185",
   "metadata": {},
   "outputs": [],
   "source": []
  }
 ],
 "metadata": {
  "kernelspec": {
   "display_name": "Python 3 (ipykernel)",
   "language": "python",
   "name": "python3"
  },
  "language_info": {
   "codemirror_mode": {
    "name": "ipython",
    "version": 3
   },
   "file_extension": ".py",
   "mimetype": "text/x-python",
   "name": "python",
   "nbconvert_exporter": "python",
   "pygments_lexer": "ipython3",
   "version": "3.10.13"
  }
 },
 "nbformat": 4,
 "nbformat_minor": 5
}
